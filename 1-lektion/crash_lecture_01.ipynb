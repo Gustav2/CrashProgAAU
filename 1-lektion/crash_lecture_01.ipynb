{
 "cells": [
  {
   "cell_type": "markdown",
   "metadata": {
    "slideshow": {
     "slide_type": "slide"
    }
   },
   "source": [
    "# Crash-kursus i Python Programmering\n",
    "\n",
    "## Modul 1 - Variable, kommandoer & udtryk og betingelser\n",
    "\n",
    "<div align=\"center\">\n",
    "Jimmy Jessen Nielsen<br/>\n",
    "jjn@es.aau.dk\n",
    "<div/>\n",
    "<br/>\n",
    "<div align=\"center\">\n",
    "Inst. for Elektroniske Systemer<br/>\n",
    "Aalborg Universitet\n",
    "</div>"
   ]
  },
  {
   "cell_type": "markdown",
   "metadata": {
    "slideshow": {
     "slide_type": "slide"
    }
   },
   "source": [
    "# Brug af Python"
   ]
  },
  {
   "cell_type": "markdown",
   "metadata": {},
   "source": [
    "Der er forskellige måder at arbejde med Python på. Jeg har lagt en video på moodle under dette modul der forklarer 3 forskellige måder. Se gerne videoen inden du går videre.\n",
    "De tre måder der beskrives i videoen er:\n",
    "- Python konsol (eks. QtConsole)\n",
    "- Notebooks, som kan åbnes enten i Jupyter Notebook eller Jupyter Lab (som dette dokument)\n",
    "- Python IDE som Spyder, PyCharm, Visual Studio, eller andre.\n",
    "\n",
    "I dette kursus bruger vi fortrinvis Notebooks og Spyder."
   ]
  },
  {
   "cell_type": "markdown",
   "metadata": {
    "slideshow": {
     "slide_type": "slide"
    }
   },
   "source": [
    "# Det første program\n",
    "\n",
    "Typisk er det første program man bliver bedt om at lave i et nyt programmeringssprog, et hvor man udskriver \"Hello World!\" til skærmen. I Python gør man sådan:"
   ]
  },
  {
   "cell_type": "code",
   "execution_count": 6,
   "metadata": {
    "slideshow": {
     "slide_type": "fragment"
    }
   },
   "outputs": [
    {
     "name": "stdout",
     "output_type": "stream",
     "text": [
      "Hello, World!\n"
     ]
    }
   ],
   "source": [
    "print('Hello, World!')"
   ]
  },
  {
   "cell_type": "markdown",
   "metadata": {},
   "source": [
    "Bemærk brugen af parenteser og at teksten vi vil udskrive er angivet mellem to apostroffer."
   ]
  },
  {
   "cell_type": "markdown",
   "metadata": {},
   "source": [
    "## Opgave 1\n",
    "Få Python til at udskrive dit navn herunder. Når du har skrevet koden så brug play-knappen øverst eller tastekombinationen skift+enter ($\\Uparrow + \\hookleftarrow$) til at afvikle cellen."
   ]
  },
  {
   "cell_type": "code",
   "execution_count": null,
   "metadata": {},
   "outputs": [],
   "source": []
  },
  {
   "cell_type": "markdown",
   "metadata": {},
   "source": [
    "Se svaret ved at klikke på \"...\" herunder. Men prøv først selv om du kan løse opgaven uden hjælp."
   ]
  },
  {
   "cell_type": "code",
   "execution_count": 7,
   "metadata": {
    "tags": []
   },
   "outputs": [
    {
     "name": "stdout",
     "output_type": "stream",
     "text": [
      "Jimmy Nielsen\n"
     ]
    }
   ],
   "source": [
    "print('Jimmy Nielsen')"
   ]
  },
  {
   "cell_type": "markdown",
   "metadata": {
    "slideshow": {
     "slide_type": "slide"
    },
    "tags": []
   },
   "source": [
    "# Aritmetiske operatorer\n",
    "\n",
    "Eksempler på addition, subtraktion, multiplikation og division:"
   ]
  },
  {
   "cell_type": "code",
   "execution_count": 8,
   "metadata": {
    "slideshow": {
     "slide_type": "subslide"
    }
   },
   "outputs": [
    {
     "data": {
      "text/plain": [
       "42"
      ]
     },
     "execution_count": 8,
     "metadata": {},
     "output_type": "execute_result"
    }
   ],
   "source": [
    "40+2"
   ]
  },
  {
   "cell_type": "code",
   "execution_count": 9,
   "metadata": {
    "slideshow": {
     "slide_type": "fragment"
    }
   },
   "outputs": [
    {
     "data": {
      "text/plain": [
       "42"
      ]
     },
     "execution_count": 9,
     "metadata": {},
     "output_type": "execute_result"
    }
   ],
   "source": [
    "43-1"
   ]
  },
  {
   "cell_type": "code",
   "execution_count": 10,
   "metadata": {
    "slideshow": {
     "slide_type": "fragment"
    }
   },
   "outputs": [
    {
     "data": {
      "text/plain": [
       "42"
      ]
     },
     "execution_count": 10,
     "metadata": {},
     "output_type": "execute_result"
    }
   ],
   "source": [
    "6*7"
   ]
  },
  {
   "cell_type": "code",
   "execution_count": 11,
   "metadata": {
    "slideshow": {
     "slide_type": "fragment"
    }
   },
   "outputs": [
    {
     "data": {
      "text/plain": [
       "42.0"
      ]
     },
     "execution_count": 11,
     "metadata": {},
     "output_type": "execute_result"
    }
   ],
   "source": [
    "84/2"
   ]
  },
  {
   "cell_type": "markdown",
   "metadata": {
    "slideshow": {
     "slide_type": "fragment"
    }
   },
   "source": [
    "Vi vender tilbage til hvorfor resultatet ender på \".0\" i den sidste udregning."
   ]
  },
  {
   "cell_type": "markdown",
   "metadata": {},
   "source": [
    "Du kan også lave flere udregninger på samme linje:"
   ]
  },
  {
   "cell_type": "code",
   "execution_count": 51,
   "metadata": {},
   "outputs": [
    {
     "data": {
      "text/plain": [
       "10"
      ]
     },
     "execution_count": 51,
     "metadata": {},
     "output_type": "execute_result"
    }
   ],
   "source": [
    "1+2+3+4"
   ]
  },
  {
   "cell_type": "markdown",
   "metadata": {},
   "source": [
    "**Note:** Bemærk at i de ovenstående regneeksempler bliver vores resultat udskrevet til skærmen selvom vi ikke eksplicit har brugt `print`-kommandoen. Det kan virke fint at undlade `print` når vi arbejder i en Jupyter Notebook eller i Python-konsollen, da resultatet automatisk udskrives. Hvis vi derimod laver et program i en `.py` fil i Spyder, skal vi altid bruge `print` for at få noget udskrevet til skærmen."
   ]
  },
  {
   "cell_type": "markdown",
   "metadata": {},
   "source": [
    "## Opgave 2\n",
    "Udregn hvor mange poter 3 katte og 4 hunde har tilsammen? (svaret er 28)"
   ]
  },
  {
   "cell_type": "code",
   "execution_count": null,
   "metadata": {},
   "outputs": [],
   "source": []
  },
  {
   "cell_type": "markdown",
   "metadata": {},
   "source": [
    "Se svaret ved at klikke på \"...\" herunder. Men prøv først selv om du kan løse opgaven uden hjælp."
   ]
  },
  {
   "cell_type": "code",
   "execution_count": 13,
   "metadata": {
    "jupyter": {
     "source_hidden": true
    },
    "tags": []
   },
   "outputs": [
    {
     "data": {
      "text/plain": [
       "28"
      ]
     },
     "execution_count": 13,
     "metadata": {},
     "output_type": "execute_result"
    }
   ],
   "source": [
    "3*4 + 4*4"
   ]
  },
  {
   "cell_type": "markdown",
   "metadata": {
    "slideshow": {
     "slide_type": "slide"
    },
    "tags": []
   },
   "source": [
    "## Potenser:\n",
    "\n",
    "Et tal kan opløftes i en potens ved at bruge en **-operator (to gangetegn). Eks. skrives $6^2$:"
   ]
  },
  {
   "cell_type": "code",
   "execution_count": 41,
   "metadata": {
    "slideshow": {
     "slide_type": "subslide"
    }
   },
   "outputs": [
    {
     "data": {
      "text/plain": [
       "36"
      ]
     },
     "execution_count": 41,
     "metadata": {},
     "output_type": "execute_result"
    }
   ],
   "source": [
    "6**2"
   ]
  },
  {
   "cell_type": "markdown",
   "metadata": {},
   "source": [
    "## Opgave 3\n",
    "Udregn $0.5 x^2 + 2 x + 4$ for x = 2. Det rigtige svar er 10."
   ]
  },
  {
   "cell_type": "code",
   "execution_count": null,
   "metadata": {},
   "outputs": [],
   "source": []
  },
  {
   "cell_type": "markdown",
   "metadata": {},
   "source": [
    "Se svaret ved at klikke på \"...\" herunder. Men prøv først selv om du kan løse opgaven uden hjælp."
   ]
  },
  {
   "cell_type": "code",
   "execution_count": 42,
   "metadata": {
    "jupyter": {
     "source_hidden": true
    },
    "tags": []
   },
   "outputs": [
    {
     "data": {
      "text/plain": [
       "10.0"
      ]
     },
     "execution_count": 42,
     "metadata": {},
     "output_type": "execute_result"
    }
   ],
   "source": [
    "0.5*2**2 + 2*2 + 4"
   ]
  },
  {
   "cell_type": "markdown",
   "metadata": {
    "slideshow": {
     "slide_type": "subslide"
    },
    "tags": []
   },
   "source": [
    "### NB!\n",
    "\n",
    "I mange programmeringssprog benyttes ^-operatoren til at opløfte i potens, f.eks. i C skrives $6^2+6$ som \"6^2+6\".\n",
    "\n",
    "I Python er ^ dog en helt anden operation kaldet XOR."
   ]
  },
  {
   "cell_type": "markdown",
   "metadata": {
    "slideshow": {
     "slide_type": "subslide"
    }
   },
   "source": [
    "## Division vs. heltalsdivision"
   ]
  },
  {
   "cell_type": "markdown",
   "metadata": {
    "slideshow": {
     "slide_type": "fragment"
    }
   },
   "source": [
    "Normal division er `/`. F.eks.:"
   ]
  },
  {
   "cell_type": "code",
   "execution_count": 59,
   "metadata": {
    "slideshow": {
     "slide_type": "fragment"
    }
   },
   "outputs": [
    {
     "data": {
      "text/plain": [
       "1.75"
      ]
     },
     "execution_count": 59,
     "metadata": {},
     "output_type": "execute_result"
    }
   ],
   "source": [
    "minutes = 105\n",
    "hours = minutes/60\n",
    "hours"
   ]
  },
  {
   "cell_type": "markdown",
   "metadata": {
    "slideshow": {
     "slide_type": "fragment"
    }
   },
   "source": [
    "Hvilket giver et kommatal (float) som resultat.\n",
    "\n",
    "Vi kan også udføre en heltalsdivision ved at skrive `//`. F.eks.:"
   ]
  },
  {
   "cell_type": "code",
   "execution_count": 60,
   "metadata": {
    "slideshow": {
     "slide_type": "fragment"
    }
   },
   "outputs": [
    {
     "data": {
      "text/plain": [
       "1"
      ]
     },
     "execution_count": 60,
     "metadata": {},
     "output_type": "execute_result"
    }
   ],
   "source": [
    "minutes = 105\n",
    "hours = minutes//60\n",
    "hours"
   ]
  },
  {
   "cell_type": "markdown",
   "metadata": {
    "slideshow": {
     "slide_type": "subslide"
    }
   },
   "source": [
    "Heltalsdivision giver kun antallet af **hele gange** et tal går op i et andet."
   ]
  },
  {
   "cell_type": "markdown",
   "metadata": {
    "slideshow": {
     "slide_type": "subslide"
    }
   },
   "source": [
    "Hvis vi vil have resten fra divisionen kan vi enten fratrække heltalsdelen og konverterer til minutter:"
   ]
  },
  {
   "cell_type": "code",
   "execution_count": 3,
   "metadata": {
    "slideshow": {
     "slide_type": "fragment"
    }
   },
   "outputs": [
    {
     "data": {
      "text/plain": [
       "45"
      ]
     },
     "execution_count": 3,
     "metadata": {},
     "output_type": "execute_result"
    }
   ],
   "source": [
    "remainder = minutes - hours * 60\n",
    "remainder"
   ]
  },
  {
   "cell_type": "markdown",
   "metadata": {
    "slideshow": {
     "slide_type": "fragment"
    }
   },
   "source": [
    "Alternativt kan vi bruge modulusoperatoren `%` som giver os resten efter heltalsdivision. F.eks.:"
   ]
  },
  {
   "cell_type": "code",
   "execution_count": 4,
   "metadata": {
    "slideshow": {
     "slide_type": "fragment"
    }
   },
   "outputs": [
    {
     "data": {
      "text/plain": [
       "45"
      ]
     },
     "execution_count": 4,
     "metadata": {},
     "output_type": "execute_result"
    }
   ],
   "source": [
    "remainder = minutes % 60\n",
    "remainder"
   ]
  },
  {
   "cell_type": "markdown",
   "metadata": {
    "slideshow": {
     "slide_type": "subslide"
    }
   },
   "source": [
    "Modulus er brugbar i mange situationer, for eksempel til at tjekke om et tal er deleligt med et andet:"
   ]
  },
  {
   "cell_type": "code",
   "execution_count": 5,
   "metadata": {
    "slideshow": {
     "slide_type": "fragment"
    }
   },
   "outputs": [
    {
     "data": {
      "text/plain": [
       "2"
      ]
     },
     "execution_count": 5,
     "metadata": {},
     "output_type": "execute_result"
    }
   ],
   "source": [
    "119%13"
   ]
  },
  {
   "cell_type": "markdown",
   "metadata": {},
   "source": [
    "Da resten er forskellig fra 0 er 119 ikke deleligt med 13. Men hvor mange gange går 13 op i 119?"
   ]
  },
  {
   "cell_type": "code",
   "execution_count": 6,
   "metadata": {},
   "outputs": [
    {
     "data": {
      "text/plain": [
       "9"
      ]
     },
     "execution_count": 6,
     "metadata": {},
     "output_type": "execute_result"
    }
   ],
   "source": [
    "119//13"
   ]
  },
  {
   "cell_type": "code",
   "execution_count": 7,
   "metadata": {},
   "outputs": [
    {
     "data": {
      "text/plain": [
       "117"
      ]
     },
     "execution_count": 7,
     "metadata": {},
     "output_type": "execute_result"
    }
   ],
   "source": [
    "9*13"
   ]
  },
  {
   "cell_type": "markdown",
   "metadata": {
    "slideshow": {
     "slide_type": "fragment"
    }
   },
   "source": [
    "Endelig kan vi tjekke om 17 går op i 119:"
   ]
  },
  {
   "cell_type": "code",
   "execution_count": 8,
   "metadata": {
    "slideshow": {
     "slide_type": "fragment"
    }
   },
   "outputs": [
    {
     "data": {
      "text/plain": [
       "0"
      ]
     },
     "execution_count": 8,
     "metadata": {},
     "output_type": "execute_result"
    }
   ],
   "source": [
    "119%17"
   ]
  },
  {
   "cell_type": "markdown",
   "metadata": {
    "slideshow": {
     "slide_type": "fragment"
    }
   },
   "source": [
    "Da resten er 0 er 119 deleligt med 17."
   ]
  },
  {
   "cell_type": "markdown",
   "metadata": {},
   "source": [
    "## Opgave 4\n",
    "Udregn hvor mange hele timer og minutter 427 minutter udgør ved at bruge heltalsdivision og modulus."
   ]
  },
  {
   "cell_type": "code",
   "execution_count": 6,
   "metadata": {
    "tags": []
   },
   "outputs": [],
   "source": [
    "# Lav din løsning i denne celle:\n",
    "X = 427\n"
   ]
  },
  {
   "cell_type": "markdown",
   "metadata": {},
   "source": [
    "Se svaret ved at klikke på \"...\" herunder. Men prøv først selv om du kan løse opgaven uden hjælp."
   ]
  },
  {
   "cell_type": "code",
   "execution_count": 5,
   "metadata": {
    "jupyter": {
     "source_hidden": true
    },
    "tags": []
   },
   "outputs": [
    {
     "name": "stdout",
     "output_type": "stream",
     "text": [
      "timer:\n",
      "7\n",
      "minutter:\n",
      "7\n"
     ]
    }
   ],
   "source": [
    "# Lav din løsning der bruger heltalsdivision i denne celle:\n",
    "X = 427\n",
    "print('timer:')\n",
    "print(X//60)\n",
    "print('minutter:')\n",
    "print(X%60)"
   ]
  },
  {
   "cell_type": "markdown",
   "metadata": {
    "slideshow": {
     "slide_type": "slide"
    }
   },
   "source": [
    "# Værdier og datatyper\n",
    "\n",
    "En værdi er et basalt element i et program og kan være f.eks. et bogstav, tal eller en tekststreng. Nogle værdier vi har set indtil videre er 2, 42.0, og \"Hello, World!\".\n",
    "\n",
    "Disse værdier er af 3 forskellige typer: \n",
    "- 2 er et heltal (Engelsk: integer, forkortes **int**)\n",
    "- 42.0 er et kommatal (Engelsk: floating-point number, forkortes **float**)\n",
    "- 'Hello, World!' er en tekststreng (Engelsk: string, forkortes **str**), der hedder sådan fordi den består af sammensatte bogstaver.\n",
    "\n",
    "Bemærk her at tal kan skrives direkte, eksempelvis `3.14`, hvorimod tekstrenge skal omringes af apostroffer, eksempelvis `'pi'`. Python melder en fejl hvis vi forsøger at skrive en tekststreng uden apostroffer\n",
    "\n",
    "Vi kan bruge kommandoen `type` til at finde ud af hvilken datatype en værdi har:"
   ]
  },
  {
   "cell_type": "code",
   "execution_count": 1,
   "metadata": {},
   "outputs": [
    {
     "ename": "NameError",
     "evalue": "name 'Hello' is not defined",
     "output_type": "error",
     "traceback": [
      "\u001b[1;31m---------------------------------------------------------------------------\u001b[0m",
      "\u001b[1;31mNameError\u001b[0m                                 Traceback (most recent call last)",
      "Input \u001b[1;32mIn [1]\u001b[0m, in \u001b[0;36m<cell line: 1>\u001b[1;34m()\u001b[0m\n\u001b[1;32m----> 1\u001b[0m \u001b[43mHello\u001b[49m, World\n",
      "\u001b[1;31mNameError\u001b[0m: name 'Hello' is not defined"
     ]
    }
   ],
   "source": [
    "Hello, World"
   ]
  },
  {
   "cell_type": "markdown",
   "metadata": {},
   "source": [
    "Det er også muligt at bruge anførselstegn til at oprette tekststrenge."
   ]
  },
  {
   "cell_type": "code",
   "execution_count": 2,
   "metadata": {},
   "outputs": [
    {
     "data": {
      "text/plain": [
       "'Hello, World!'"
      ]
     },
     "execution_count": 2,
     "metadata": {},
     "output_type": "execute_result"
    }
   ],
   "source": [
    "\"Hello, World!\""
   ]
  },
  {
   "cell_type": "markdown",
   "metadata": {},
   "source": [
    "Der er ingen betydelig forskel på de to metoder, men det anbefales at være konsekvent."
   ]
  },
  {
   "cell_type": "markdown",
   "metadata": {},
   "source": [
    "Vi kan bruge kommandoen `type` til at finde ud af hvilken datatype en værdi har:"
   ]
  },
  {
   "cell_type": "code",
   "execution_count": 14,
   "metadata": {
    "slideshow": {
     "slide_type": "slide"
    }
   },
   "outputs": [
    {
     "data": {
      "text/plain": [
       "int"
      ]
     },
     "execution_count": 14,
     "metadata": {},
     "output_type": "execute_result"
    }
   ],
   "source": [
    "type(2)"
   ]
  },
  {
   "cell_type": "code",
   "execution_count": 15,
   "metadata": {
    "slideshow": {
     "slide_type": "fragment"
    }
   },
   "outputs": [
    {
     "data": {
      "text/plain": [
       "float"
      ]
     },
     "execution_count": 15,
     "metadata": {},
     "output_type": "execute_result"
    }
   ],
   "source": [
    "type(42.0)"
   ]
  },
  {
   "cell_type": "code",
   "execution_count": 16,
   "metadata": {
    "slideshow": {
     "slide_type": "fragment"
    }
   },
   "outputs": [
    {
     "data": {
      "text/plain": [
       "str"
      ]
     },
     "execution_count": 16,
     "metadata": {},
     "output_type": "execute_result"
    }
   ],
   "source": [
    "type('Hello, World!')"
   ]
  },
  {
   "cell_type": "markdown",
   "metadata": {
    "slideshow": {
     "slide_type": "fragment"
    }
   },
   "source": [
    "Bemærk at hvis vi sætter apostrof omkring et tal vil Python opfatte det som en tekststreng:"
   ]
  },
  {
   "cell_type": "code",
   "execution_count": 43,
   "metadata": {
    "slideshow": {
     "slide_type": "fragment"
    }
   },
   "outputs": [
    {
     "data": {
      "text/plain": [
       "str"
      ]
     },
     "execution_count": 43,
     "metadata": {},
     "output_type": "execute_result"
    }
   ],
   "source": [
    "type('42.0')"
   ]
  },
  {
   "cell_type": "markdown",
   "metadata": {},
   "source": [
    "Hvis tallet er gemt som en tekststreng kan vi ikke umiddelbart lave udregninger med det:"
   ]
  },
  {
   "cell_type": "code",
   "execution_count": 47,
   "metadata": {},
   "outputs": [
    {
     "ename": "TypeError",
     "evalue": "unsupported operand type(s) for +: 'int' and 'str'",
     "output_type": "error",
     "traceback": [
      "\u001b[0;31m---------------------------------------------------------------------------\u001b[0m",
      "\u001b[0;31mTypeError\u001b[0m                                 Traceback (most recent call last)",
      "Input \u001b[0;32mIn [47]\u001b[0m, in \u001b[0;36m<cell line: 1>\u001b[0;34m()\u001b[0m\n\u001b[0;32m----> 1\u001b[0m \u001b[38;5;241;43m1\u001b[39;49m\u001b[43m \u001b[49m\u001b[38;5;241;43m+\u001b[39;49m\u001b[43m \u001b[49m\u001b[38;5;124;43m'\u001b[39;49m\u001b[38;5;124;43m42.0\u001b[39;49m\u001b[38;5;124;43m'\u001b[39;49m\n",
      "\u001b[0;31mTypeError\u001b[0m: unsupported operand type(s) for +: 'int' and 'str'"
     ]
    }
   ],
   "source": [
    "1 + '42.0'"
   ]
  },
  {
   "cell_type": "markdown",
   "metadata": {},
   "source": [
    "Her beklager Python sig over at den ikke kan lægge en tekststreng til et tal."
   ]
  },
  {
   "cell_type": "markdown",
   "metadata": {
    "slideshow": {
     "slide_type": "slide"
    }
   },
   "source": [
    "## NB! Brug ikke kommaer som tusindtal-seperator:\n",
    "Når man skriver store tal (med engelsk talræpresentation) benytter man ofte kommaer til at opdele for hver tusinde, eks: 1,000,000.\n",
    "Men i Python bruges komma til at adskille elementer. Derfor vil Python opfatte 1 million skrevet med kommaer på følgende måde:"
   ]
  },
  {
   "cell_type": "code",
   "execution_count": 18,
   "metadata": {
    "slideshow": {
     "slide_type": "subslide"
    }
   },
   "outputs": [
    {
     "data": {
      "text/plain": [
       "(1, 0, 0)"
      ]
     },
     "execution_count": 18,
     "metadata": {},
     "output_type": "execute_result"
    }
   ],
   "source": [
    "1,000,000"
   ]
  },
  {
   "cell_type": "code",
   "execution_count": 19,
   "metadata": {
    "slideshow": {
     "slide_type": "fragment"
    }
   },
   "outputs": [
    {
     "data": {
      "text/plain": [
       "tuple"
      ]
     },
     "execution_count": 19,
     "metadata": {},
     "output_type": "execute_result"
    }
   ],
   "source": [
    "type((1, 0, 0))"
   ]
  },
  {
   "cell_type": "markdown",
   "metadata": {
    "slideshow": {
     "slide_type": "subslide"
    }
   },
   "source": [
    "Dette opfatter Python som en såkaldt Tuple med de tre elementer 1, 0 og 0, hvilket jo er forskelligt fra tallet 1,000,000. Vi lærer mere om tuples senere i kurset.\n",
    "\n",
    "Hvis vi gerne vil synliggøre tusinder i et tal, kan vi skrive det på følgende måde:"
   ]
  },
  {
   "cell_type": "code",
   "execution_count": 50,
   "metadata": {},
   "outputs": [
    {
     "data": {
      "text/plain": [
       "1000000"
      ]
     },
     "execution_count": 50,
     "metadata": {},
     "output_type": "execute_result"
    }
   ],
   "source": [
    "1_000_000"
   ]
  },
  {
   "cell_type": "markdown",
   "metadata": {
    "slideshow": {
     "slide_type": "slide"
    }
   },
   "source": [
    "# Formelle og naturlige sprog\n",
    "\n",
    "<b>Naturlige</b> sprog er de sprog mennesker taler såsom dansk, engelsk, spansk eller fransk. De er ikke som sådan designet af en eller flere bestemte personer, men er rettere opstået og har udviklet sig naturligt.\n",
    "\n",
    "<b>Formelle</b> sprog er sprog der er designet til et specifikt formål. F.eks.: \n",
    "- <b>Matematisk</b> notation er et formelt sprog som betegner relationer mellem tal og symboler. \n",
    "- <b>Kemisk</b> notation er et formelt sprog til at repræsentere den kemiske struktur af molekyler."
   ]
  },
  {
   "cell_type": "markdown",
   "metadata": {
    "slideshow": {
     "slide_type": "subslide"
    }
   },
   "source": [
    "Allervigtigst for dette kursus er:\n",
    "<br>\n",
    "<div><b><center>Programmeringssprog, der er formelle sprog til at beskrive computeroperationer.</center></b></div>"
   ]
  },
  {
   "cell_type": "markdown",
   "metadata": {
    "slideshow": {
     "slide_type": "slide"
    }
   },
   "source": [
    "<b>Naturlige</b> sprog har en løs syntaks; mindre fejl slåfejl og grammatiske fejl betyder oftest ikke noget for forståelsen.\n",
    "    - F.eks.: \"d3tt3 r en forståel!g sætn!ng på tr*ds af de m@nge fjel.\"\n",
    "\n",
    "<b>Formelle</b> sprog har en streng syntaks, hvor den midnste afvigelse vil resultere i en fejl.\n",
    "\n",
    "Husk derfor at Python ikke forstår hvad du/I tænker, men kun hvad der faktisk står i koden. I vil derfor opleve at blive frustrerede - gang efter gang - over at Python ikke er tilfreds før alt er skrevet helt korrekt.\n",
    "\n",
    "Når det er sagt, er det også værd at bemærke at et bestemt problem ofte kan løses på mange forskellige måder, så der kan være mange korrekte løsninger til samme problem."
   ]
  },
  {
   "cell_type": "markdown",
   "metadata": {
    "slideshow": {
     "slide_type": "slide"
    }
   },
   "source": [
    "# Tildeling\n",
    "Vi kan gemme vores værdier fra tidligere ved at tildele dem til variable. F.eks. kan vi lave en variabel (her navngivet `besked`) til at gemme \"Hello, World!\" tekststrengen:"
   ]
  },
  {
   "cell_type": "code",
   "execution_count": 65,
   "metadata": {
    "slideshow": {
     "slide_type": "fragment"
    }
   },
   "outputs": [
    {
     "data": {
      "text/plain": [
       "'Hello, World!'"
      ]
     },
     "execution_count": 65,
     "metadata": {},
     "output_type": "execute_result"
    }
   ],
   "source": [
    "besked = 'Hello, World!'\n",
    "besked"
   ]
  },
  {
   "cell_type": "markdown",
   "metadata": {},
   "source": [
    "Vi kan også tjekke hvilken datatype en bestemt variabel har:"
   ]
  },
  {
   "cell_type": "code",
   "execution_count": 66,
   "metadata": {},
   "outputs": [
    {
     "data": {
      "text/plain": [
       "str"
      ]
     },
     "execution_count": 66,
     "metadata": {},
     "output_type": "execute_result"
    }
   ],
   "source": [
    "type(besked)"
   ]
  },
  {
   "cell_type": "markdown",
   "metadata": {},
   "source": [
    "Vi kan også definere tal-variable med heltal (int) og kommatal (float):"
   ]
  },
  {
   "cell_type": "code",
   "execution_count": 68,
   "metadata": {
    "slideshow": {
     "slide_type": "fragment"
    }
   },
   "outputs": [
    {
     "data": {
      "text/plain": [
       "17"
      ]
     },
     "execution_count": 68,
     "metadata": {},
     "output_type": "execute_result"
    }
   ],
   "source": [
    "n = 17\n",
    "n"
   ]
  },
  {
   "cell_type": "code",
   "execution_count": 67,
   "metadata": {
    "slideshow": {
     "slide_type": "fragment"
    }
   },
   "outputs": [
    {
     "data": {
      "text/plain": [
       "int"
      ]
     },
     "execution_count": 67,
     "metadata": {},
     "output_type": "execute_result"
    }
   ],
   "source": [
    "type(n)"
   ]
  },
  {
   "cell_type": "code",
   "execution_count": 69,
   "metadata": {
    "slideshow": {
     "slide_type": "fragment"
    }
   },
   "outputs": [
    {
     "data": {
      "text/plain": [
       "3.141592653589793"
      ]
     },
     "execution_count": 69,
     "metadata": {},
     "output_type": "execute_result"
    }
   ],
   "source": [
    "pi = 3.1415926535897932\n",
    "pi"
   ]
  },
  {
   "cell_type": "code",
   "execution_count": 70,
   "metadata": {
    "slideshow": {
     "slide_type": "fragment"
    }
   },
   "outputs": [
    {
     "data": {
      "text/plain": [
       "float"
      ]
     },
     "execution_count": 70,
     "metadata": {},
     "output_type": "execute_result"
    }
   ],
   "source": [
    "type(pi)"
   ]
  },
  {
   "cell_type": "markdown",
   "metadata": {
    "slideshow": {
     "slide_type": "slide"
    }
   },
   "source": [
    "## Variabelnavne"
   ]
  },
  {
   "cell_type": "markdown",
   "metadata": {
    "slideshow": {
     "slide_type": "fragment"
    }
   },
   "source": [
    "- I Python må variable (samt funktioner, og objekter) ikke have et tal som første karakter i navnet.\n",
    "    - Kun tal-værdier må starte med et tal.\n",
    "- Typisk benytter man kun små bogstaver til navne af variable med understreg '_' til at kombinere ord.\n",
    "    - For eksempel 'car_speed_kmh'"
   ]
  },
  {
   "cell_type": "markdown",
   "metadata": {
    "slideshow": {
     "slide_type": "subslide"
    }
   },
   "source": [
    "- Derudover findes en række reserverede ord som ikke må benyttes til variabelnavne: `and`, `as`, `assert`, `async`, `await`, `break`, `class`, `continue`, `def`, `del`, `elif`, `else`, `except`, `False`, `finally`, `for`, `from`, `global`, `if`, `import`, `in`, `is`, `lambda`, `None`, `nonlocal`, `not`, `or`, `pass`, `raise`, `return`, `True`, `try`, `while`, `with` and `yield`. (vi kommer omkring de fleste af disse senere i kurset.)"
   ]
  },
  {
   "cell_type": "markdown",
   "metadata": {},
   "source": [
    "## Opgave 5\n",
    "Lav en tekststreng-variabel kaldet `navn` hvor værdien er dit navn. Udskriv værdien til skærmen."
   ]
  },
  {
   "cell_type": "code",
   "execution_count": null,
   "metadata": {},
   "outputs": [],
   "source": []
  },
  {
   "cell_type": "markdown",
   "metadata": {},
   "source": [
    "Se svaret ved at klikke på \"...\" herunder. Men prøv først selv om du kan løse opgaven uden hjælp."
   ]
  },
  {
   "cell_type": "code",
   "execution_count": 1,
   "metadata": {
    "jupyter": {
     "source_hidden": true
    },
    "tags": []
   },
   "outputs": [
    {
     "name": "stdout",
     "output_type": "stream",
     "text": [
      "Jimmy\n"
     ]
    }
   ],
   "source": [
    "navn = 'Jimmy'\n",
    "print(navn)"
   ]
  },
  {
   "cell_type": "markdown",
   "metadata": {},
   "source": [
    "# Del 2"
   ]
  },
  {
   "cell_type": "markdown",
   "metadata": {
    "slideshow": {
     "slide_type": "slide"
    }
   },
   "source": [
    "## Udtryk og udsagn (engelsk: expressions and statements)\n",
    "\n",
    "Et udtryk (expression) er en kombination af værdier, variable og operatorer. En værdi i sig selv anses også som et udtryk, ligesom en variabel. De følgende er derfor alle lovlige udtryk:"
   ]
  },
  {
   "cell_type": "code",
   "execution_count": 24,
   "metadata": {
    "slideshow": {
     "slide_type": "fragment"
    }
   },
   "outputs": [
    {
     "data": {
      "text/plain": [
       "42"
      ]
     },
     "execution_count": 24,
     "metadata": {},
     "output_type": "execute_result"
    }
   ],
   "source": [
    "42"
   ]
  },
  {
   "cell_type": "code",
   "execution_count": 25,
   "metadata": {
    "slideshow": {
     "slide_type": "fragment"
    }
   },
   "outputs": [
    {
     "data": {
      "text/plain": [
       "17"
      ]
     },
     "execution_count": 25,
     "metadata": {},
     "output_type": "execute_result"
    }
   ],
   "source": [
    "n"
   ]
  },
  {
   "cell_type": "code",
   "execution_count": 26,
   "metadata": {
    "slideshow": {
     "slide_type": "fragment"
    }
   },
   "outputs": [
    {
     "data": {
      "text/plain": [
       "42"
      ]
     },
     "execution_count": 26,
     "metadata": {},
     "output_type": "execute_result"
    }
   ],
   "source": [
    "n+25"
   ]
  },
  {
   "cell_type": "markdown",
   "metadata": {
    "slideshow": {
     "slide_type": "subslide"
    }
   },
   "source": [
    "Et udsagn (statement) er et stykke kode som har en effekt som at oprette en variabel eller udskrive en værdi til skærmen med `print`-kommandoen. (Selvom Jupyter Notebook er flink og udskriver værdien af udtrykkene ovenfor til skærmen for os, er de ikke udsagn da det ikke er noget vi eksplicit beder Python om at gøre.)\n",
    "\n",
    "To eksempler på udsagn (statements):"
   ]
  },
  {
   "cell_type": "code",
   "execution_count": 80,
   "metadata": {
    "slideshow": {
     "slide_type": "-"
    }
   },
   "outputs": [],
   "source": [
    "n=17"
   ]
  },
  {
   "cell_type": "code",
   "execution_count": 81,
   "metadata": {
    "slideshow": {
     "slide_type": "-"
    }
   },
   "outputs": [
    {
     "name": "stdout",
     "output_type": "stream",
     "text": [
      "17\n"
     ]
    }
   ],
   "source": [
    "print(n)"
   ]
  },
  {
   "cell_type": "markdown",
   "metadata": {
    "slideshow": {
     "slide_type": "-"
    }
   },
   "source": [
    "Når vi har kode der består af flere linjer, vil den blive afviklet linje efter linje af vores Python-fortolker."
   ]
  },
  {
   "cell_type": "markdown",
   "metadata": {
    "slideshow": {
     "slide_type": "slide"
    }
   },
   "source": [
    "## Script og interactive mode\n",
    "\n",
    "Hvis vi blot vil bruge Python som en lommeregner kan vi afvikle linjer enkeltvis - dette kaldes \"Interactive mode\" på engelsk.\n",
    "Lad os lave de følgende to **udsagn**:"
   ]
  },
  {
   "cell_type": "code",
   "execution_count": 82,
   "metadata": {},
   "outputs": [],
   "source": [
    "miles = 26.2"
   ]
  },
  {
   "cell_type": "code",
   "execution_count": 83,
   "metadata": {},
   "outputs": [
    {
     "data": {
      "text/plain": [
       "42.182"
      ]
     },
     "execution_count": 83,
     "metadata": {},
     "output_type": "execute_result"
    }
   ],
   "source": [
    "miles * 1.61"
   ]
  },
  {
   "cell_type": "markdown",
   "metadata": {},
   "source": [
    "- Den første linje er en <b>tildeling (assignment)</b> Der ikke har noget output.\n",
    "- Den anden linje er et <b>udtryk (expression)</b> der outputter resultatet af udregningen.\n",
    "\n",
    "Et script derimod er en samling af udsagn. Hvis vi samler de to udsagn ovenfor i den samme celle (eller i samme `.py`-fil i Spyder) udgør de nu et **script**:"
   ]
  },
  {
   "cell_type": "code",
   "execution_count": 84,
   "metadata": {},
   "outputs": [
    {
     "data": {
      "text/plain": [
       "42.182"
      ]
     },
     "execution_count": 84,
     "metadata": {},
     "output_type": "execute_result"
    }
   ],
   "source": [
    "miles = 26.2\n",
    "miles * 1.61"
   ]
  },
  {
   "cell_type": "markdown",
   "metadata": {
    "slideshow": {
     "slide_type": "slide"
    }
   },
   "source": [
    "## Operationernes orden\n",
    "\n",
    "- Som i andre programmeringssprog og i matematikken, er der regler for hvordan udtryk skal evalueres.\n",
    "- Aritmetiske operatorer skal evalueres i den følgende rækkefølge, hvor øverst har præcedens:\n",
    "    - Parentes: `()`\n",
    "    - Potens: `**`\n",
    "    - Fortegn: `+x, -x`\n",
    "    - Multiplikation, division og modulus: `*, /, %`\n",
    "    - Addition og subtraktion: `+, -`\n",
    "- Grupperinger på samme niveau evalueres fra venstre til højre."
   ]
  },
  {
   "cell_type": "markdown",
   "metadata": {},
   "source": [
    "## Opgave 6\n",
    "\n",
    "Med udgangspunkt i reglerne ovenfor, hvilken måde vil Python fortolke udtrykket $b-a \\cdot x^2$? (Kun ét svar er korrekt)\n",
    "\n",
    " 1. $(b-a)x^2$?\n",
    " 2. $b-(a(x^2))$?\n",
    " 3. $(b-ax)^2$?\n",
    " 4. $b-(ax)^2$?\n",
    " \n",
    "Vi kan indsætte nogle talværdier og se hvad resultatet giver af udtrykket:"
   ]
  },
  {
   "cell_type": "code",
   "execution_count": 86,
   "metadata": {},
   "outputs": [
    {
     "data": {
      "text/plain": [
       "-47"
      ]
     },
     "execution_count": 86,
     "metadata": {},
     "output_type": "execute_result"
    }
   ],
   "source": [
    "a=2\n",
    "b=3\n",
    "x=5\n",
    "\n",
    "b-a*x**2"
   ]
  },
  {
   "cell_type": "markdown",
   "metadata": {},
   "source": [
    "For at tjekke hvilket svar der er rigtigt, kan du bruge cellen herunder til at indsætte paranteser og tjekke resultatet."
   ]
  },
  {
   "cell_type": "code",
   "execution_count": null,
   "metadata": {},
   "outputs": [],
   "source": []
  },
  {
   "cell_type": "markdown",
   "metadata": {},
   "source": [
    "Se svaret ved at klikke på \"...\" herunder. Men prøv først selv om du kan løse opgaven uden hjælp."
   ]
  },
  {
   "cell_type": "markdown",
   "metadata": {
    "jupyter": {
     "source_hidden": true
    },
    "tags": []
   },
   "source": [
    "Det rigtige svar er 2."
   ]
  },
  {
   "cell_type": "markdown",
   "metadata": {
    "slideshow": {
     "slide_type": "slide"
    }
   },
   "source": [
    "## Operationer på tekststrenge\n",
    "\n",
    "I Python kan vi bruge '+' og '*' operatorer på strenge til at lægge strenge sammen og gentage strenge:"
   ]
  },
  {
   "cell_type": "code",
   "execution_count": 32,
   "metadata": {},
   "outputs": [
    {
     "data": {
      "text/plain": [
       "'input'"
      ]
     },
     "execution_count": 32,
     "metadata": {},
     "output_type": "execute_result"
    }
   ],
   "source": [
    "'in' + 'put'"
   ]
  },
  {
   "cell_type": "code",
   "execution_count": 33,
   "metadata": {},
   "outputs": [
    {
     "data": {
      "text/plain": [
       "'samesame'"
      ]
     },
     "execution_count": 33,
     "metadata": {},
     "output_type": "execute_result"
    }
   ],
   "source": [
    "'same'*2"
   ]
  },
  {
   "cell_type": "code",
   "execution_count": 34,
   "metadata": {},
   "outputs": [
    {
     "data": {
      "text/plain": [
       "'samesame'"
      ]
     },
     "execution_count": 34,
     "metadata": {},
     "output_type": "execute_result"
    }
   ],
   "source": [
    "'same' + 'same'"
   ]
  },
  {
   "cell_type": "markdown",
   "metadata": {},
   "source": [
    "## Opgave 7\n",
    "\n",
    "Lav et lille script i cellen herunder der udskriver følgende tekst til skærmen: `--- Headline ---`. Du må selv kun skrive bindestreg (`-`) to gange i din kode. Hint: brug '+' og '*' operatorerne i din løsning."
   ]
  },
  {
   "cell_type": "code",
   "execution_count": null,
   "metadata": {},
   "outputs": [],
   "source": []
  },
  {
   "cell_type": "markdown",
   "metadata": {},
   "source": [
    "Se svaret ved at klikke på \"...\" herunder. Men prøv først selv om du kan løse opgaven uden hjælp."
   ]
  },
  {
   "cell_type": "code",
   "execution_count": 90,
   "metadata": {
    "jupyter": {
     "source_hidden": true
    },
    "tags": []
   },
   "outputs": [
    {
     "name": "stdout",
     "output_type": "stream",
     "text": [
      "--- Headline ---\n"
     ]
    }
   ],
   "source": [
    "print('-'*3 + ' Headline ' + '-'*3)"
   ]
  },
  {
   "cell_type": "markdown",
   "metadata": {
    "slideshow": {
     "slide_type": "slide"
    }
   },
   "source": [
    "## Kommentarer i Python kode\n",
    "- Man kan indsætte kommentarer i ens kode til at forklare hvad koden gør.\n",
    "- Dette kan hjælpe dig selv og andre til at forstå et stykke kode.\n",
    "- I Python opfattes alt efter hashtag `#` på en linje som en kommentar og ignoreres af Python fortolkeren.\n",
    "\n",
    "Vi kan lave en kommentar på en selvstændig linje:"
   ]
  },
  {
   "cell_type": "code",
   "execution_count": 97,
   "metadata": {},
   "outputs": [
    {
     "name": "stdout",
     "output_type": "stream",
     "text": [
      "3.3333333333333335\n"
     ]
    }
   ],
   "source": [
    "minut = 2\n",
    "# udregn hvor meget af en time der er gået\n",
    "procent = (minut * 100) / 60\n",
    "print(procent)"
   ]
  },
  {
   "cell_type": "markdown",
   "metadata": {},
   "source": [
    "eller efter et stykke kode på en linje:"
   ]
  },
  {
   "cell_type": "code",
   "execution_count": 96,
   "metadata": {},
   "outputs": [
    {
     "name": "stdout",
     "output_type": "stream",
     "text": [
      "3.3333333333333335\n"
     ]
    }
   ],
   "source": [
    "procent = (minut * 100) / 60 # procent af en time\n",
    "print(procent)"
   ]
  },
  {
   "cell_type": "markdown",
   "metadata": {},
   "source": [
    "Nogle gange kan det være nyttigt at udkommentere enkelte linjer midlertidigt med '#' for at opspore en fejl eller afprøve en alternativ idé."
   ]
  },
  {
   "cell_type": "markdown",
   "metadata": {},
   "source": [
    "## Opgave 8\n",
    "\n",
    "I den følgende kode, prøv at udkommentere forskellige linjer (ved at sætte `#`i starten af linjen) og se hvilken virkning det har på den udskrevne værdi af `a`."
   ]
  },
  {
   "cell_type": "code",
   "execution_count": 99,
   "metadata": {},
   "outputs": [
    {
     "name": "stdout",
     "output_type": "stream",
     "text": [
      "4\n"
     ]
    }
   ],
   "source": [
    "a = 2\n",
    "a = 3\n",
    "a = 4\n",
    "print(a)"
   ]
  },
  {
   "cell_type": "markdown",
   "metadata": {},
   "source": [
    "Se et eksempel ved at klikke på \"...\" herunder. Men prøv først selv om du kan løse opgaven uden hjælp."
   ]
  },
  {
   "cell_type": "code",
   "execution_count": 100,
   "metadata": {
    "jupyter": {
     "source_hidden": true
    },
    "tags": []
   },
   "outputs": [
    {
     "name": "stdout",
     "output_type": "stream",
     "text": [
      "2\n"
     ]
    }
   ],
   "source": [
    "a = 2\n",
    "#a = 3\n",
    "#a = 4\n",
    "print(a)"
   ]
  },
  {
   "cell_type": "markdown",
   "metadata": {},
   "source": [
    "## Udskrivning af strenge med variable\n",
    "\n",
    "I Python er der forskellige måder at udskrive en tekststreng, hvori der indsættes værdier fra variable. Den mest umiddelbare metode er at bruge hvad der kaldes **f-strings** (formateret tekststreng).\n",
    "Herunder er et eksempel hvor vi indsætter navn og alder fra to variable i en tekststreng:"
   ]
  },
  {
   "cell_type": "code",
   "execution_count": 1,
   "metadata": {},
   "outputs": [
    {
     "name": "stdout",
     "output_type": "stream",
     "text": [
      "My name is Bob and I am 21 years old.\n"
     ]
    }
   ],
   "source": [
    "age = 21\n",
    "name = 'Bob'\n",
    "print(f'My name is {name} and I am {age} years old.')"
   ]
  },
  {
   "cell_type": "markdown",
   "metadata": {},
   "source": [
    "Her ses det hvordan værdierne for de to variable er blevet indsat i den udskrevne tekst. Bemærk hvordan variablene er inkluderet i strengen (indenfor apostrofferne) i krøllede paranteser. Derudover står der et 'f' foran tekststrengen, hvilket signalerer til Python at strengen skal formateres.\n",
    "\n",
    "Faktisk bliver det der er i de krøllede paranteser opfattet som et udtryk, dvs. vi kan endda kalde kommandoer og lave udregninger. hvor resultatet inkluderes i den resulterende tekststreng. F.eks.:"
   ]
  },
  {
   "cell_type": "code",
   "execution_count": 101,
   "metadata": {},
   "outputs": [
    {
     "name": "stdout",
     "output_type": "stream",
     "text": [
      "Your name is 5 characters long.\n"
     ]
    }
   ],
   "source": [
    "name = 'Bobby'\n",
    "print(f'Your name is {len(name)} characters long.')"
   ]
  },
  {
   "cell_type": "markdown",
   "metadata": {},
   "source": [
    "Her bruges kommandoen `len` til at fortælle hvor mange karakterer en tekststreng består af."
   ]
  },
  {
   "cell_type": "markdown",
   "metadata": {},
   "source": [
    "### Note om f-strings"
   ]
  },
  {
   "cell_type": "markdown",
   "metadata": {},
   "source": [
    "Man kan også bruge f-strings uafhængigt af `print`-kommandoen og blot gemme output som en variabel. (For at se resultatet er vi dog nødt til at udskrive med `print` efterfølgende, men bemærk at resultatet først gemmes i en variabel `txt`.)"
   ]
  },
  {
   "cell_type": "code",
   "execution_count": 1,
   "metadata": {},
   "outputs": [
    {
     "name": "stdout",
     "output_type": "stream",
     "text": [
      "Efter lejrskole har Peter 160 kr tilbage af sine lommepenge.\n"
     ]
    }
   ],
   "source": [
    "navn = 'Peter'\n",
    "lommepenge = 500 # kr\n",
    "brugt = 340 # kr\n",
    "txt = f'Efter lejrskole har {navn} {lommepenge - brugt} kr tilbage af sine lommepenge.'\n",
    "print(txt)"
   ]
  },
  {
   "cell_type": "markdown",
   "metadata": {},
   "source": [
    "## Opgave 9\n",
    "\n",
    "Definér først en variabel `x` der har en talværdi. Brug derefter f-string metoden til at udskrive tallet og kvadratet af tallet $x^2$. Output til skærmen skal være i stil med det følgende, hvor du inkluderer både tekst og udregning i samme linje:\n",
    "\n",
    "`Tallet er 3. Kvadratet af tallet er 9.`"
   ]
  },
  {
   "cell_type": "code",
   "execution_count": null,
   "metadata": {},
   "outputs": [],
   "source": []
  },
  {
   "cell_type": "markdown",
   "metadata": {},
   "source": [
    "Se svaret ved at klikke på \"...\" herunder. Men prøv først selv om du kan løse opgaven uden hjælp."
   ]
  },
  {
   "cell_type": "code",
   "execution_count": 104,
   "metadata": {
    "jupyter": {
     "source_hidden": true
    },
    "tags": []
   },
   "outputs": [
    {
     "name": "stdout",
     "output_type": "stream",
     "text": [
      "Tallet er 3. Kvadratet af tallet er 9.\n"
     ]
    }
   ],
   "source": [
    "x = 3\n",
    "print(f'Tallet er {x}. Kvadratet af tallet er {x**2}.')"
   ]
  },
  {
   "cell_type": "markdown",
   "metadata": {},
   "source": [
    "## Hvalros operator"
   ]
  },
  {
   "cell_type": "markdown",
   "metadata": {},
   "source": [
    "Normalvist skal man altid først tildele en værdi til en variabel før man kan benytte dem. Men siden Python version 3.8, har det været muligt at tildele en værdi til en variabel indeni et andet udtryk med den såkaldte hvalros (walrus) operator:"
   ]
  },
  {
   "cell_type": "code",
   "execution_count": 75,
   "metadata": {},
   "outputs": [
    {
     "name": "stdout",
     "output_type": "stream",
     "text": [
      "\n",
      "Here is something completely different\n",
      "Here is something completely different\n"
     ]
    }
   ],
   "source": [
    "msg = ''\n",
    "print(msg)\n",
    "print(msg := 'Here is something completely different')\n",
    "print(msg)"
   ]
  },
  {
   "cell_type": "markdown",
   "metadata": {},
   "source": [
    "Bemærk hvordan hvalros-operatoren `:=`, først tildeler en ny værdi til `msg` og derefter udskriver `msg` i den samme linje.\n",
    "På næste linje udskriver vi `msg` igen og kan se den er ændret."
   ]
  },
  {
   "cell_type": "markdown",
   "metadata": {},
   "source": [
    "# Del 3"
   ]
  },
  {
   "cell_type": "markdown",
   "metadata": {
    "slideshow": {
     "slide_type": "slide"
    }
   },
   "source": [
    "# Betingelser\n",
    "\n",
    "I programmer har man ofte brug for at kunne udføre forskellige kommandoer i forskellige situationer. Til at specificere disse forskellige situationer bruger vi betingelser i form af **if**-udtryk (if-statements). Inden vi kan opbygge et sådant if-udtryk skal vi først have styr på boolske udtryk:"
   ]
  },
  {
   "cell_type": "markdown",
   "metadata": {
    "slideshow": {
     "slide_type": "slide"
    }
   },
   "source": [
    "## Boolske udtryk (Boolean expressions)\n",
    "\n",
    "Disse er udtryk som kan antage værdierne enten sand `True` eller falsk `False`. Eksempler:"
   ]
  },
  {
   "cell_type": "code",
   "execution_count": 68,
   "metadata": {
    "slideshow": {
     "slide_type": "fragment"
    }
   },
   "outputs": [
    {
     "data": {
      "text/plain": [
       "True"
      ]
     },
     "execution_count": 68,
     "metadata": {},
     "output_type": "execute_result"
    }
   ],
   "source": [
    "5 == 5"
   ]
  },
  {
   "cell_type": "code",
   "execution_count": 2,
   "metadata": {
    "slideshow": {
     "slide_type": "fragment"
    }
   },
   "outputs": [
    {
     "data": {
      "text/plain": [
       "False"
      ]
     },
     "execution_count": 2,
     "metadata": {},
     "output_type": "execute_result"
    }
   ],
   "source": [
    "5 == 6"
   ]
  },
  {
   "cell_type": "markdown",
   "metadata": {},
   "source": [
    "#### Vigtigt:\n",
    "Bemærk hvordan vi her bruger **dobbelt lighedstegn** til at spørge (eller teste) om to tal er lig hinanden. Bemærk forskellen i forhold til tildeling (som vi lærte om i første lektion), hvor vi kun brugte et enkelt lighedstegn, eks. `a = 1`."
   ]
  },
  {
   "cell_type": "markdown",
   "metadata": {
    "slideshow": {
     "slide_type": "subslide"
    }
   },
   "source": [
    "`True` og `False` er specielle værdier - ikke tekststrenge (bemærk at der ikke er `\"` eller `'`). Specifikt er de af datatypen  `bool`, som er en datatype med kun to mulige værdier, nemlig `True` eller `False`."
   ]
  },
  {
   "cell_type": "code",
   "execution_count": 70,
   "metadata": {
    "slideshow": {
     "slide_type": "fragment"
    }
   },
   "outputs": [
    {
     "data": {
      "text/plain": [
       "bool"
      ]
     },
     "execution_count": 70,
     "metadata": {},
     "output_type": "execute_result"
    }
   ],
   "source": [
    "type(True)"
   ]
  },
  {
   "cell_type": "code",
   "execution_count": 71,
   "metadata": {
    "slideshow": {
     "slide_type": "fragment"
    }
   },
   "outputs": [
    {
     "data": {
      "text/plain": [
       "bool"
      ]
     },
     "execution_count": 71,
     "metadata": {},
     "output_type": "execute_result"
    }
   ],
   "source": [
    "type(False)"
   ]
  },
  {
   "cell_type": "markdown",
   "metadata": {
    "slideshow": {
     "slide_type": "subslide"
    }
   },
   "source": [
    "Udover at teste for lighed med `==` findes der også andre såkaldte relationelle operatorer:"
   ]
  },
  {
   "cell_type": "markdown",
   "metadata": {
    "slideshow": {
     "slide_type": "-"
    }
   },
   "source": [
    "- `x!=y`:   $x$ er forskellig fra $y$ ($x \\neq y$)\n",
    "- `x>y`:    $x$ er større end $y$ ($x>y$)\n",
    "- `x<y`:    $x$ er mindre end $y$ ($x<y$)\n",
    "- `x>=y`:   $x$ er større end eller lig med $y$ ($x \\geq y$)\n",
    "- `x<=y`:   $x$ er mindre end eller lig med $y$ ($x \\leq y$)"
   ]
  },
  {
   "cell_type": "markdown",
   "metadata": {},
   "source": [
    "Eksempel:"
   ]
  },
  {
   "cell_type": "code",
   "execution_count": 5,
   "metadata": {},
   "outputs": [
    {
     "name": "stdout",
     "output_type": "stream",
     "text": [
      "True\n"
     ]
    }
   ],
   "source": [
    "print(2<3)"
   ]
  },
  {
   "cell_type": "markdown",
   "metadata": {},
   "source": [
    "## Opgave 10\n",
    "Check hvilke af de følgende udtryk der er sande (som i eksemplet herover):\n",
    "1. $21/7 \\geq \\pi$ (hint: brug `math.pi` for at få den nøjagtige værdi af $\\pi$. For at kunne tilgå `math.pi` skal du inkludere linjen `import math` øverst i dit program.)\n",
    "2. $\\frac{116}{27} < \\frac{13}{3}$\n",
    "3. Længden af dit fulde navn er større end din alder. (Hint: brug kommandoen `len()` til at tælle antal tegn i en tekststreng.)"
   ]
  },
  {
   "cell_type": "code",
   "execution_count": null,
   "metadata": {},
   "outputs": [],
   "source": [
    "import math\n"
   ]
  },
  {
   "cell_type": "markdown",
   "metadata": {},
   "source": [
    "Se svaret ved at klikke på \"...\" herunder. Men prøv først selv om du kan løse opgaven uden hjælp."
   ]
  },
  {
   "cell_type": "code",
   "execution_count": null,
   "metadata": {
    "jupyter": {
     "source_hidden": true
    },
    "tags": []
   },
   "outputs": [],
   "source": [
    "import math\n",
    "print(21/7 >= math.pi)\n",
    "print(116/27 < 13/3)\n",
    "print(len('John Doe') > 15)"
   ]
  },
  {
   "cell_type": "markdown",
   "metadata": {
    "slideshow": {
     "slide_type": "subslide"
    }
   },
   "source": [
    "## Logiske operatorer"
   ]
  },
  {
   "cell_type": "markdown",
   "metadata": {
    "slideshow": {
     "slide_type": "-"
    }
   },
   "source": [
    "Vi kan kombinere to eller flere boolske udtryk vha. de logiske operatorer `and`, `or`, og `not`.Vi kan kombinere to eller flere boolske udtryk vha. de logiske operatorer `and`, `or`, og `not`. Logikken er som følger:\n",
    " - `and`: Begge udtrykke er sande\n",
    " - `or`: Mindst ét udtryk er sandt\n",
    " - `not`: Laver `False` til `True` og omvendt (kun ét boolsk udtryk)\n",
    " \n",
    " Vi ser et par eksempler"
   ]
  },
  {
   "cell_type": "code",
   "execution_count": 4,
   "metadata": {},
   "outputs": [
    {
     "data": {
      "text/plain": [
       "True"
      ]
     },
     "execution_count": 4,
     "metadata": {},
     "output_type": "execute_result"
    }
   ],
   "source": [
    "True and True"
   ]
  },
  {
   "cell_type": "code",
   "execution_count": 5,
   "metadata": {},
   "outputs": [
    {
     "data": {
      "text/plain": [
       "False"
      ]
     },
     "execution_count": 5,
     "metadata": {},
     "output_type": "execute_result"
    }
   ],
   "source": [
    "True and False"
   ]
  },
  {
   "cell_type": "code",
   "execution_count": 6,
   "metadata": {},
   "outputs": [
    {
     "data": {
      "text/plain": [
       "True"
      ]
     },
     "execution_count": 6,
     "metadata": {},
     "output_type": "execute_result"
    }
   ],
   "source": [
    "True or False"
   ]
  },
  {
   "cell_type": "code",
   "execution_count": 7,
   "metadata": {},
   "outputs": [
    {
     "data": {
      "text/plain": [
       "False"
      ]
     },
     "execution_count": 7,
     "metadata": {},
     "output_type": "execute_result"
    }
   ],
   "source": [
    "False or False"
   ]
  },
  {
   "cell_type": "code",
   "execution_count": 8,
   "metadata": {},
   "outputs": [
    {
     "data": {
      "text/plain": [
       "True"
      ]
     },
     "execution_count": 8,
     "metadata": {},
     "output_type": "execute_result"
    }
   ],
   "source": [
    "not False"
   ]
  },
  {
   "cell_type": "markdown",
   "metadata": {
    "slideshow": {
     "slide_type": "fragment"
    }
   },
   "source": [
    "Lad os antage at program skal gøre noget specielt hvis nogle enheders vægt er imellem 1 og 5 kg. Det kan vi udtrykke på følgende måde:"
   ]
  },
  {
   "cell_type": "code",
   "execution_count": 14,
   "metadata": {
    "slideshow": {
     "slide_type": "-"
    }
   },
   "outputs": [
    {
     "data": {
      "text/plain": [
       "True"
      ]
     },
     "execution_count": 14,
     "metadata": {},
     "output_type": "execute_result"
    }
   ],
   "source": [
    "weight = 2 # Givet inputværdi.\n",
    "weight >= 1 and weight < 5"
   ]
  },
  {
   "cell_type": "markdown",
   "metadata": {},
   "source": [
    "Prøv at ændre værdien af `weight` i det ovenstående til andre værdier, eks. 0.2, 1, 4.99, 5 og 7 og se om resultatet er som forventet."
   ]
  },
  {
   "cell_type": "markdown",
   "metadata": {},
   "source": [
    "Hvis vi i stedet vil undersøge om en værdi er udenfor intervallet (på den ene eller anden side) kan vi bruge `or` operatoren på følgende måde:"
   ]
  },
  {
   "cell_type": "code",
   "execution_count": 5,
   "metadata": {},
   "outputs": [
    {
     "data": {
      "text/plain": [
       "True"
      ]
     },
     "execution_count": 5,
     "metadata": {},
     "output_type": "execute_result"
    }
   ],
   "source": [
    "weight = 0.5\n",
    "weight < 1 or weight >= 5"
   ]
  },
  {
   "cell_type": "markdown",
   "metadata": {},
   "source": [
    "Prøv at ændre værdien af `weight` og bekræft at udtrykket giver `True` udenfor intervallet og `False` indenfor intervallet."
   ]
  },
  {
   "cell_type": "markdown",
   "metadata": {
    "slideshow": {
     "slide_type": "subslide"
    }
   },
   "source": [
    "## Betinget udførsel af kode\n",
    "\n",
    "Ofte har vi brug for at et program opfører sig forskelligt i forskellige situationer. Et eksempel for en video streaming-tjeneste (eks. Netflix) kunne være en aldersbegrænsning:"
   ]
  },
  {
   "cell_type": "markdown",
   "metadata": {
    "slideshow": {
     "slide_type": "fragment"
    }
   },
   "source": [
    "- Hvis alder er under 18 år, vis sikkert indhold\n",
    "- Hvis alder er over 18 år, vis alt indhold\n",
    "\n",
    "Disse betingelser kan udtrykkes i Python med `if`-udtryk på følgende måde:"
   ]
  },
  {
   "cell_type": "code",
   "execution_count": 17,
   "metadata": {
    "slideshow": {
     "slide_type": "fragment"
    }
   },
   "outputs": [
    {
     "name": "stdout",
     "output_type": "stream",
     "text": [
      "Safe content only\n",
      "Start preparing the popcorn!\n"
     ]
    }
   ],
   "source": [
    "age = 10\n",
    "if age < 18:\n",
    "    print('Safe content only')\n",
    "    print('Start preparing the popcorn!')\n",
    "if age >= 18:\n",
    "    print('All content')"
   ]
  },
  {
   "cell_type": "markdown",
   "metadata": {},
   "source": [
    "Bemærk hvordan `if` efterfølges af et boolsk udtryk og at linjen altid afsluttes med kolon `:`.\n",
    "Det kode som skal udføres hvis betingelsen efter `if` er sand, skal være indrykket (brug tabulator-tasten over Caps Lock). \n",
    "\n",
    "Prøv at ændre værdien af `age` til andre værdier og se hvad der bliver skrevet ud til skærmen."
   ]
  },
  {
   "cell_type": "markdown",
   "metadata": {},
   "source": [
    "### Tip:\n",
    "Der er i princippet ingen grænse for hvor mange udtryk der kan være betinget af et `if`-udtryk, men der skal være mindst ét. Har man brug for ingenting at gøre (f.eks. som pladsholder til senere kode) kan kommandoen `pass`, som ingenting gør, benyttes:"
   ]
  },
  {
   "cell_type": "code",
   "execution_count": 18,
   "metadata": {},
   "outputs": [],
   "source": [
    "if age < 0:\n",
    "    pass"
   ]
  },
  {
   "cell_type": "markdown",
   "metadata": {
    "tags": []
   },
   "source": [
    "### Opgave 11\n",
    "\n",
    "Lad variablen `fuel` repræsentere den resterende mængde brændstof i tanken på en bil. Lav et stykke kode herunder der benytter et `if`-udtryk til at udskrive en advarsel hvis der er mindre end 5 liter brændstof tilbage i tanken. Prøv at give `fuel` forskellige værdier (4,5, og 6) og test om det giver korrekt output. Kun `fuel = 4` bør give en advarsel.\n"
   ]
  },
  {
   "cell_type": "code",
   "execution_count": 19,
   "metadata": {},
   "outputs": [],
   "source": [
    "fuel = 6\n",
    "\n",
    "# Skriv din kode herunder:\n"
   ]
  },
  {
   "cell_type": "markdown",
   "metadata": {},
   "source": [
    "Se svaret ved at klikke på \"...\" herunder. Men prøv først selv om du kan løse opgaven uden hjælp."
   ]
  },
  {
   "cell_type": "code",
   "execution_count": 22,
   "metadata": {
    "jupyter": {
     "source_hidden": true
    },
    "tags": []
   },
   "outputs": [],
   "source": [
    "fuel = 6\n",
    "\n",
    "# Skriv din kode herunder:\n",
    "if fuel < 5:\n",
    "    print('Advarsel - lav brændstofstand i tanken!')\n",
    "    "
   ]
  },
  {
   "cell_type": "markdown",
   "metadata": {
    "slideshow": {
     "slide_type": "subslide"
    }
   },
   "source": [
    "## Alternativ udførsel (`else`)"
   ]
  },
  {
   "cell_type": "markdown",
   "metadata": {
    "slideshow": {
     "slide_type": "fragment"
    }
   },
   "source": [
    "En anden måde vi kan formulere aldersbegrænsningen fra eksemplet ovenfor er at udnytte at den ene mulighed udelukker den anden. I sådanne tilfælde kan vi bruge `else` efter en forudgående `if`-betingelse:"
   ]
  },
  {
   "cell_type": "code",
   "execution_count": 14,
   "metadata": {
    "slideshow": {
     "slide_type": "-"
    }
   },
   "outputs": [
    {
     "name": "stdout",
     "output_type": "stream",
     "text": [
      "Safe content only\n"
     ]
    }
   ],
   "source": [
    "age = 10\n",
    "if age < 18:\n",
    "    print('Safe content only')\n",
    "else:\n",
    "    print('All content')"
   ]
  },
  {
   "cell_type": "markdown",
   "metadata": {},
   "source": [
    "En fordel ved at bruge `else` i forhold til at have to `if`-betingelser er at man kun behøver at ændre grænseværdien ét sted, hvis aldersbegrænsningen ændres fra 18 til 21. Med to `if`-betingelser ville man skulle huske at ændre 18 begge steder."
   ]
  },
  {
   "cell_type": "markdown",
   "metadata": {
    "slideshow": {
     "slide_type": "subslide"
    }
   },
   "source": [
    "## Sammenkædede betingelser\n",
    "I tilfælde hvor vi har flere end to betingelser, kan vi benytte `elif` (forkortelse af else if) til at lave en betingelse der kun skal tjekkes hvis den eller de foregående betingelser ikke er opfyldt. Vi kan udvide vores alderstjek til at omfatte børne-indhold:"
   ]
  },
  {
   "cell_type": "code",
   "execution_count": 17,
   "metadata": {
    "slideshow": {
     "slide_type": "fragment"
    }
   },
   "outputs": [
    {
     "name": "stdout",
     "output_type": "stream",
     "text": [
      "Kids' content only\n",
      "Slut\n"
     ]
    }
   ],
   "source": [
    "age = 7\n",
    "if age < 8:\n",
    "    print(\"Kids' content only\")\n",
    "elif age < 18:\n",
    "    print('Safe content only')\n",
    "else:\n",
    "    print('All content')\n",
    "    \n",
    "print('Slut')"
   ]
  },
  {
   "cell_type": "markdown",
   "metadata": {
    "slideshow": {
     "slide_type": "fragment"
    }
   },
   "source": [
    "Betingelser tjekkes altid fra toppen og nedad indtil en betingelse evalueres sand (`True`) og Python springer ud af `if`-blokken. Prøv at sætte `age` til forskellige værdier og bemærk hvad der udskrives. Vær sikker på at du forstår hvorfor."
   ]
  },
  {
   "cell_type": "markdown",
   "metadata": {},
   "source": [
    "## Opgave 12\n",
    "\n",
    "Kopiér løsningen fra opgave 2 til cellen herunder og udvid den til at give en yderligere **kritisk** advarsel når brændstof-niveauet er 1 liter eller mindre. Brug en `if`-`elif`-konstruktion til at opnå dette.\n",
    "\n",
    "Test din kode med værdier for `fuel` på 0.5, 1, 4, 5 og 6. Af disse værdier, skal kun 0.5 og 1 skal give den kritiske advarsel og kun 4 skal give den normale advarsel om lavt brændstof.\n",
    "\n",
    "Bemærk vigtigheden af betingelsernes rækkefølge. Prøv at bytte om på rækkefølgen af betingelserne og se om det virker. (Dette kan måske også være en hjælp, hvis ikke du kan få det til at virke i første omgang.)"
   ]
  },
  {
   "cell_type": "code",
   "execution_count": null,
   "metadata": {},
   "outputs": [],
   "source": []
  },
  {
   "cell_type": "markdown",
   "metadata": {
    "tags": []
   },
   "source": [
    "Se svaret ved at klikke på \"...\" herunder. Men prøv først selv om du kan løse opgaven uden hjælp."
   ]
  },
  {
   "cell_type": "code",
   "execution_count": 20,
   "metadata": {
    "jupyter": {
     "source_hidden": true
    },
    "tags": []
   },
   "outputs": [
    {
     "name": "stdout",
     "output_type": "stream",
     "text": [
      "Kritisk advarsel - Tank med det samme!!!\n"
     ]
    }
   ],
   "source": [
    "fuel = 1\n",
    "\n",
    "# Skriv din kode herunder:\n",
    "if fuel <= 1:\n",
    "    print('Kritisk advarsel - Tank med det samme!!!')\n",
    "elif fuel < 5:\n",
    "    print('Advarsel - lav brændstofstand i tanken!')\n",
    "    "
   ]
  },
  {
   "cell_type": "markdown",
   "metadata": {
    "slideshow": {
     "slide_type": "subslide"
    }
   },
   "source": [
    "## Indlejrede betingelser\n",
    "Vi kan også indsætte en betingelse indeni en såkaldt *betinget forgrening*:"
   ]
  },
  {
   "cell_type": "code",
   "execution_count": 26,
   "metadata": {
    "slideshow": {
     "slide_type": "fragment"
    }
   },
   "outputs": [
    {
     "name": "stdout",
     "output_type": "stream",
     "text": [
      "Kids' content only\n"
     ]
    }
   ],
   "source": [
    "age = 3\n",
    "paid = True\n",
    "if paid == True:\n",
    "    if age < 8:\n",
    "        print(\"Kids' content only\")\n",
    "    elif age < 18:\n",
    "        print('Safe content only')\n",
    "    else:\n",
    "        print('All content')\n",
    "else:\n",
    "    print('No subscription')"
   ]
  },
  {
   "cell_type": "markdown",
   "metadata": {},
   "source": [
    "I dette eksempel gælder betingelsen på `age` kun hvis abonnementet er betalt (når `paid` er lig `True`).\n",
    "\n",
    "Prøv at skifte værdien af `paid` mellem `True` og `False` og prøv med forskellige værdier af `age` og se om output er som du vil forvente. Vær sikker på du forstår hvorfor programmet opfører sig som det gør.\n",
    "\n",
    "**Husk** at indrykningen bestemmer hvor meget af koden der er betinget af `paid`. Dvs. linje 4-9 evalueres kun af Python hvis `paid == True`. Hvis `paid` derimod er falsk (og udtrykket `paid == True` derfor er falsk), springer Python forbi disse linjer."
   ]
  },
  {
   "cell_type": "markdown",
   "metadata": {},
   "source": [
    "## Dobbelt-betingelser"
   ]
  },
  {
   "cell_type": "markdown",
   "metadata": {
    "slideshow": {
     "slide_type": "subslide"
    }
   },
   "source": [
    "Det er muligt at lave en dobbelt-betingelse eller to-sidet betingelse for én variabel i Python på følgende måde:"
   ]
  },
  {
   "cell_type": "code",
   "execution_count": 21,
   "metadata": {},
   "outputs": [
    {
     "name": "stdout",
     "output_type": "stream",
     "text": [
      "Safe content only\n"
     ]
    }
   ],
   "source": [
    "age = 10\n",
    "if 8 < age < 18:\n",
    "    print(\"Safe content only\")"
   ]
  },
  {
   "cell_type": "markdown",
   "metadata": {},
   "source": [
    "Hermed kan man specificere både øvre og nedre grænse for \"lovlige\" værdier af en variabel."
   ]
  },
  {
   "cell_type": "markdown",
   "metadata": {},
   "source": [
    "## Opgave 13\n",
    "\n",
    "Ændr på brændstof-opgaven fra de to foregående opgaver til at bruge en **to-sidet betingelse** til advarslen om at tankstanden er mellem 1 og 5 liter og en `elif` betingelse til det kritiske niveau under 1 liter."
   ]
  },
  {
   "cell_type": "code",
   "execution_count": null,
   "metadata": {},
   "outputs": [],
   "source": []
  },
  {
   "cell_type": "markdown",
   "metadata": {
    "tags": []
   },
   "source": [
    "Se svaret ved at klikke på \"...\" herunder. Men prøv først selv om du kan løse opgaven uden hjælp."
   ]
  },
  {
   "cell_type": "code",
   "execution_count": 26,
   "metadata": {
    "jupyter": {
     "source_hidden": true
    },
    "tags": []
   },
   "outputs": [
    {
     "name": "stdout",
     "output_type": "stream",
     "text": [
      "Advarsel - lav brændstofstand i tanken!\n"
     ]
    }
   ],
   "source": [
    "fuel = 1\n",
    "\n",
    "# Skriv din kode herunder:\n",
    "if 1 <= fuel < 5:\n",
    "    print('Advarsel - lav brændstofstand i tanken!')\n",
    "elif fuel < 1:\n",
    "    print('Kritisk advarsel - Tank med det samme!!!')  "
   ]
  },
  {
   "cell_type": "markdown",
   "metadata": {
    "slideshow": {
     "slide_type": "subslide"
    }
   },
   "source": [
    "## Tjek af typer\n",
    "\n",
    "**Lav nyt eksempel**\n",
    "\n",
    "Vi lærte i sidste lektion at vi kan få oplyst typen af en variabel med kommandoen `type`. I et program kan man indimellem har brug for at vide om en variabel er af en bestemt type. Dette kan vi gøre med \n",
    "`isinstance(var, type)` funktionen.\n",
    "\n",
    "Example for factorial:"
   ]
  },
  {
   "cell_type": "code",
   "execution_count": 73,
   "metadata": {
    "slideshow": {
     "slide_type": "subslide"
    }
   },
   "outputs": [
    {
     "name": "stdout",
     "output_type": "stream",
     "text": [
      "Du har angivet en streng, men programmet kræver et tal.\n"
     ]
    }
   ],
   "source": [
    "n = 'hello'\n",
    "#n = 2.3\n",
    "#n = 2\n",
    "\n",
    "if isinstance(n, str):\n",
    "    print('Du har angivet en streng, men programmet kræver et tal.')\n",
    "elif isinstance(n, int):\n",
    "    print('Du har angivet et heltal. Perfekt.')\n",
    "elif isinstance(n, float):\n",
    "    print('Du har angivet et kommatal. Perfekt.')\n"
   ]
  },
  {
   "cell_type": "markdown",
   "metadata": {},
   "source": [
    "Afprøv programmet med de 3 forskellige inputs ved at indkommentere linjerne på skift."
   ]
  },
  {
   "cell_type": "markdown",
   "metadata": {
    "slideshow": {
     "slide_type": "slide"
    }
   },
   "source": [
    "# The end"
   ]
  },
  {
   "cell_type": "code",
   "execution_count": null,
   "metadata": {},
   "outputs": [],
   "source": []
  }
 ],
 "metadata": {
  "celltoolbar": "Slideshow",
  "kernelspec": {
   "display_name": "Python 3 (ipykernel)",
   "language": "python",
   "name": "python3"
  },
  "language_info": {
   "codemirror_mode": {
    "name": "ipython",
    "version": 3
   },
   "file_extension": ".py",
   "mimetype": "text/x-python",
   "name": "python",
   "nbconvert_exporter": "python",
   "pygments_lexer": "ipython3",
   "version": "3.8.17"
  },
  "livereveal": {
   "height": 800,
   "width": 1280
  }
 },
 "nbformat": 4,
 "nbformat_minor": 4
}
